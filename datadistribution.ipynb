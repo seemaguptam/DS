{
 "cells": [
  {
   "cell_type": "code",
   "execution_count": null,
   "id": "b01574d6-1439-4c0b-ba04-07d9fe0c8f6e",
   "metadata": {},
   "outputs": [],
   "source": [
    "\"\"\" Data distribution, adapted from Elements of Data Science, Allen Downey \"\"\""
   ]
  },
  {
   "cell_type": "code",
   "execution_count": null,
   "id": "21d87beb-5cc8-441f-8118-ff5ae98ac607",
   "metadata": {},
   "outputs": [],
   "source": [
    "\"\"\"`empiricaldist` provides an object type called `Pmf`, which stands for \"probability mass function\".\n",
    "A `Pmf` object contains a set of possible outcomes and their probabilities.\n",
    "For example, here's a `Pmf` that represents the outcome of rolling a six-sided die:\n",
    "\"\"\"\n",
    "\n",
    "from empiricaldist import Pmf\n",
    "\n",
    "outcomes = [1,2,3,4,5,6]\n",
    "die = Pmf(1/6, outcomes)"
   ]
  },
  {
   "cell_type": "code",
   "execution_count": null,
   "id": "0d0d5dc7-e74e-4a8f-9688-4e0faf271e6b",
   "metadata": {},
   "outputs": [],
   "source": [
    "import os\n",
    "os.getcwd()"
   ]
  },
  {
   "cell_type": "code",
   "execution_count": null,
   "id": "0db1ed23-5109-41bb-be9c-e9c05f62f4b8",
   "metadata": {},
   "outputs": [],
   "source": [
    "\"\"\"We'll use `Pmf` objects to represent distributions of values from a new dataset, the General Social Survey (GSS).\n",
    "The GSS surveys a representative sample of adult residents of the U.S. and asks questions about demographics, and beliefs about social and political issues.\n",
    "\"\"\"\n",
    "\n",
    "data_file = 'Data/gss_extract_2022.hdf'\n",
    "import pandas as pd\n",
    "\n",
    "gss = pd.read_hdf(data_file, 'gss')\n",
    "print(gss.shape)\n",
    "print(gss.head())"
   ]
  },
  {
   "cell_type": "code",
   "execution_count": null,
   "id": "e2ce3dbc-bad6-48da-a068-b4d31a987e74",
   "metadata": {},
   "outputs": [],
   "source": [
    "\"\"\"\n",
    "when we make a `Pmf`, we want to know the *fraction* of respondents with each value, rather than the counts.\n",
    "We can do that by setting `normalize=True`.\n",
    "Then we get a **normalized** `Pmf`, which means that the fractions add up to 1.\n",
    "Let's look at the `year` column in the `DataFrame`, which represents the year each respondent was interviewed.\n",
    "Make an unnormalized `Pmf` for `year` and plot the result as a bar chart.\n",
    "\"\"\"\n",
    "year = gss['year']\n",
    "pmf_year = Pmf.from_seq(year, normalize=False) # counts\n",
    "pmf_year.bar(label='year')\n",
    "print(pmf_year[2022])"
   ]
  },
  {
   "cell_type": "code",
   "execution_count": null,
   "id": "3c2b2a4c-6f1f-483a-a672-40fcfc49a8d7",
   "metadata": {},
   "outputs": [],
   "source": [
    "age = gss['age']\n",
    "pmf_age = Pmf.from_seq(age)\n",
    "pmf_age.plot()\n",
    "\n",
    "plt.xlabel('Age (years)')\n",
    "plt.ylabel('PMF')\n",
    "plt.title('Distribution of age');"
   ]
  },
  {
   "cell_type": "code",
   "execution_count": null,
   "id": "53184b87-2a84-469c-bbd3-29bd78018d67",
   "metadata": {},
   "outputs": [],
   "source": [
    "\"\"\"\n",
    "CDF Cumulative Distribution Functions\n",
    "If we compute the cumulative sum of a PMF, the result is a cumulative distribution function (CDF).\n",
    "\"\"\"\n",
    "values = 1, 2, 2, 3, 5\n",
    "pmf = Pmf.from_seq(values)\n",
    "print(pmf)\n",
    "cdf = pmf.make_cdf()\n",
    "print(cdf)"
   ]
  },
  {
   "cell_type": "code",
   "execution_count": null,
   "id": "d2ea8ae5-cfc0-4efc-ab87-33d24f78921f",
   "metadata": {},
   "outputs": [],
   "source": [
    "\"\"\"\n",
    "## CDF of Age\n",
    "\"\"\"\n",
    "\n",
    "\"\"\"`empiricaldist` provides a `Cdf.from_seq` function that takes any kind of sequence and computes the CDF of the values.\"\"\"\n",
    "\n",
    "from empiricaldist import Cdf\n",
    "\n",
    "cdf_age = Cdf.from_seq(age)\n",
    "\n",
    "\"\"\"The result is a `Cdf` object, which provides a method called `plot` that plots the CDF as a line.\"\"\"\n",
    "\n",
    "cdf_age.plot()\n",
    "\n",
    "plt.xlabel('Age (years)')\n",
    "plt.ylabel('CDF')\n",
    "plt.title('Distribution of age');"
   ]
  },
  {
   "cell_type": "code",
   "execution_count": null,
   "id": "75c575cd-2f09-4379-8b39-66496f88f487",
   "metadata": {},
   "outputs": [],
   "source": [
    "\"\"\"`q` stands for \"quantity\", which is another name for a value in a distribution.\n",
    "`p` stands for probability, which is the result.\n",
    "In this example, the quantity is age 51, and the corresponding probability is about 0.62.\n",
    "That means that about 62% of the respondents are age 51 or younger.\n",
    "\"\"\"\n",
    "q = 51\n",
    "p = cdf_age(q)\n",
    "print(p)\n",
    "def draw_line(p, q, x):\n",
    "    xs = [q, q, x]\n",
    "    ys = [0, p, p]\n",
    "    plt.plot(xs, ys, ':', color='gray')\n",
    "\n",
    "def draw_arrow_left(p, q, x):\n",
    "    dx = 3\n",
    "    dy = 0.025\n",
    "    xs = [x+dx, x, x+dx]\n",
    "    ys = [p-dy, p, p+dy]\n",
    "    plt.plot(xs, ys, ':', color='gray')\n",
    "\n",
    "def draw_arrow_down(p, q, y):\n",
    "    dx = 1.25\n",
    "    dy = 0.045\n",
    "    xs = [q-dx, q, q+dx]\n",
    "    ys = [y+dy, y, y+dy]\n",
    "    plt.plot(xs, ys, ':', color='gray')\n",
    "\n",
    "cdf_age.plot()\n",
    "x = 17\n",
    "draw_line(p, q, x)\n",
    "draw_arrow_left(p, q, x)\n",
    "\n",
    "plt.xlabel('Age (years)')\n",
    "plt.xlim(x-1, 91)\n",
    "plt.ylabel('CDF')\n",
    "plt.title('Distribution of age');\n"
   ]
  },
  {
   "cell_type": "code",
   "execution_count": null,
   "id": "65224064-612d-40fc-beef-cc63e07b8de5",
   "metadata": {},
   "outputs": [],
   "source": [
    "\"\"\"The CDF is an invertible function, which means that if you have a probability, `p`,\n",
    "you can look up the corresponding quantity, `q`.\n",
    "The `Cdf` object provides a method called `inverse` that computes the inverse of the cumulative distribution function.\n",
    "We look up the probability 0.25 and the result is 32.\n",
    "That means that 25% of the respondents are age 32 or less.\n",
    "Another way to say the same thing is \"age 32 is the 25th percentile of this distribution\".\n",
    "\"\"\"\n",
    "\n",
    "p1 = 0.25\n",
    "q1 = cdf_age.inverse(p1)\n",
    "print(q1)\n",
    "cdf_age.plot()\n",
    "\n",
    "p2 = 0.75\n",
    "q2 = cdf_age.inverse(p2)\n",
    "print(q2)\n",
    "\n",
    "x = 17\n",
    "draw_line(p1, q1, x)\n",
    "draw_arrow_down(p1, q1, 0)\n",
    "\n",
    "draw_line(p2, q2, x)\n",
    "draw_arrow_down(p2, q2, 0)\n",
    "\n",
    "plt.xlabel('Age (years)')\n",
    "plt.xlim(x-1, 91)\n",
    "plt.ylabel('CDF')\n",
    "plt.title('Distribution of age');\n"
   ]
  },
  {
   "cell_type": "code",
   "execution_count": null,
   "id": "99283c7c-0cc3-47b3-a6e8-19a6a6c8c6b0",
   "metadata": {},
   "outputs": [],
   "source": [
    "\"\"\"## Comparing Distributions\n",
    "\n",
    "So far we've seen two ways to represent distributions, PMFs and CDFs.\n",
    "Now we'll use PMFs and CDFs to compare distributions, and we'll see the pros and cons of each.\n",
    "One way to compare distributions is to plot multiple PMFs on the same axes.\n",
    "For example, suppose we want to compare the distribution of age for male and female respondents.\n",
    "First we'll create a Boolean `Series` that's true for male respondents and another that's true for female respondents.\n",
    "\"\"\"\n",
    "\n",
    "male = (gss['sex'] == 1)\n",
    "female = (gss['sex'] == 2)\n",
    "\n",
    "\"\"\"We can use these `Series` to select ages for male and female respondents.\"\"\"\n",
    "\n",
    "male_age = age[male]\n",
    "female_age = age[female]\n",
    "\n",
    "\"\"\"And plot a PMF for each.\"\"\"\n",
    "\n",
    "pmf_male_age = Pmf.from_seq(male_age)\n",
    "pmf_male_age.plot(label='Male')\n",
    "\n",
    "pmf_female_age = Pmf.from_seq(female_age)\n",
    "pmf_female_age.plot(label='Female')\n",
    "\n",
    "plt.xlabel('Age (years)')\n",
    "plt.ylabel('PMF')\n",
    "plt.title('Distribution of age by sex')\n",
    "plt.legend();"
   ]
  },
  {
   "cell_type": "code",
   "execution_count": null,
   "id": "f010ee0f-35ff-489a-8f32-fcb56df70edb",
   "metadata": {},
   "outputs": [],
   "source": [
    "\"\"\"A plot as variable as this is often described as **noisy**.\n",
    "If we ignore the noise, it looks like the PMF is higher for men between ages 40 and 50,\n",
    "and higher for women between ages 70 and 80.\n",
    "But both of those differences might be due to randomness.\n",
    "\n",
    "Now let's do the same thing with CDFs -- everything is the same except we replace `Pmf` with `Cdf`.\n",
    "\"\"\"\n",
    "\n",
    "cdf_male_age = Cdf.from_seq(male_age)\n",
    "cdf_male_age.plot(label='Male')\n",
    "\n",
    "cdf_female_age = Cdf.from_seq(female_age)\n",
    "cdf_female_age.plot(label='Female')\n",
    "\n",
    "plt.xlabel('Age (years)')\n",
    "plt.ylabel('CDF')\n",
    "plt.title('Distribution of age by sex')\n",
    "plt.legend();"
   ]
  },
  {
   "cell_type": "code",
   "execution_count": null,
   "id": "c5008df5-61c9-4d32-b203-443c1fc52255",
   "metadata": {},
   "outputs": [],
   "source": [
    "\"\"\"Because CDFs smooth out randomness, they provide a better view of real differences between distributions.\n",
    "In this case, the lines are close together until age 40 -- after that, the CDF is higher for men than women.\n",
    "\n",
    "So what does that mean?\n",
    "One way to interpret the difference is that the fraction of men below a given age is generally more than the fraction of \n",
    "women below the same age.\n",
    "For example, about 77% of men are 60 or less, compared to 75% of women.\n",
    "\"\"\"\n",
    "\n",
    "print(cdf_male_age(60), cdf_female_age(60))\n",
    "\"\"\"Going the other way, we could also compare percentiles.\n",
    "For example, the median age woman is older than the median age man, by about one year.\n",
    "\"\"\"\n",
    "\n",
    "print(cdf_male_age.inverse(0.5), cdf_female_age.inverse(0.5))"
   ]
  },
  {
   "cell_type": "code",
   "execution_count": null,
   "id": "37477f24-e3e5-432e-9bdd-4d1dd073b922",
   "metadata": {},
   "outputs": [],
   "source": [
    "\"\"\"\n",
    "As another example, the numbers generated by numpy.random.random are supposed to be uniform between 0 and 1; \n",
    "that is, every value in the range should have the same probability.\n",
    "Lets generate 1000 numbers from numpy.random.random and compare the plots of PMF and CDF.\n",
    "\"\"\""
   ]
  },
  {
   "cell_type": "code",
   "execution_count": null,
   "id": "c2b782af-de0f-44d5-afba-eb3b6896265c",
   "metadata": {},
   "outputs": [],
   "source": [
    "import numpy as np\n",
    "x = np.random.random()\n",
    "numlist = []\n",
    "for i in range(1000):\n",
    "    numlist.append(np.random.random())\n",
    "print(len(numlist))\n",
    "\n",
    "pmft = Pmf.from_seq(numlist, normalize=True)\n",
    "pmft.bar(label='pmf')\n",
    "plt.xlabel('prob')\n",
    "plt.ylabel('PMF')\n",
    "plt.title('Distribution of random numbers')\n",
    "plt.legend();"
   ]
  },
  {
   "cell_type": "code",
   "execution_count": null,
   "id": "6dd23174-8a1e-4d60-94d3-d2639153f5dd",
   "metadata": {},
   "outputs": [],
   "source": [
    "\"\"\"\n",
    "CDF plot shows the distribution is uniform\n",
    "\"\"\"\n",
    "cdfn = Cdf.from_seq(numlist)\n",
    "cdfn.plot()\n",
    "plt.xlabel('cumulative')\n",
    "plt.ylabel('CDF')\n",
    "plt.title('Distribution of random numbers')\n",
    "plt.legend();"
   ]
  }
 ],
 "metadata": {
  "kernelspec": {
   "display_name": "Python 3 (ipykernel)",
   "language": "python",
   "name": "python3"
  },
  "language_info": {
   "codemirror_mode": {
    "name": "ipython",
    "version": 3
   },
   "file_extension": ".py",
   "mimetype": "text/x-python",
   "name": "python",
   "nbconvert_exporter": "python",
   "pygments_lexer": "ipython3",
   "version": "3.11.7"
  }
 },
 "nbformat": 4,
 "nbformat_minor": 5
}
