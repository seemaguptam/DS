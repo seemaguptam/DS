{
 "cells": [
  {
   "cell_type": "code",
   "execution_count": null,
   "id": "5d192774-101f-4903-a484-56cf0122bef3",
   "metadata": {},
   "outputs": [],
   "source": [
    "\"\"\" Wheat data exploration \"\"\"\n",
    "import pandas as pd\n",
    "import matplotlib.pyplot as plt\n",
    "import matplotlib\n",
    "import os\n",
    "os.getcwd()\n",
    "df = pd.read_csv(\"wheat.data\")\n",
    "print(df.shape)\n",
    "print(df.columns)\n",
    "print(df.dtypes)\n",
    "print(df.describe())"
   ]
  },
  {
   "cell_type": "code",
   "execution_count": null,
   "id": "8fe6ef7b-0cac-4885-98a6-c5563c9081fe",
   "metadata": {},
   "outputs": [],
   "source": [
    "# Get a subset of data\n",
    "# Create a slice from your dataframe and name the variable s1. It should only include the area and perimeter features.\n",
    "s1 = df[['area', 'perimeter']]\n",
    "print(s1.shape)\n",
    "print(type(s1)\n",
    "# Create another slice of from dataframe called it s2 this time. Slice out only the groove and asymmetry features\n",
    "s2 = df[['groove', 'asymmetry']]\n",
    "print(s2.shape)"
   ]
  },
  {
   "cell_type": "code",
   "execution_count": null,
   "id": "d79ae92a-8e68-431e-aa12-bbcacf9c4a7a",
   "metadata": {},
   "outputs": [],
   "source": [
    "# Create a histogram plot using the first slice, and another histogram plot using the second slice. Set alpha=0.75\n",
    "s1.plot.hist(alpha=0.75)\n",
    "s2.plot.hist(alpha=0.75)"
   ]
  },
  {
   "cell_type": "code",
   "execution_count": null,
   "id": "582ae037-d967-41e5-9d58-019df7397f2a",
   "metadata": {},
   "outputs": [],
   "source": [
    "# Scatter plots are a great way to identify corelation betwen features\n",
    "# Create a scatter plot that graphs the area and perimeter features\n",
    "s1.plot.scatter(x='area', y='perimeter')"
   ]
  },
  {
   "cell_type": "code",
   "execution_count": null,
   "id": "12e0c014-30e0-4471-89cd-199e25b1d979",
   "metadata": {},
   "outputs": [],
   "source": [
    "# now create a scatter plot that graphs the groove and asymmetry features\n",
    "s2.plot.scatter(x='groove', y='asymmetry', color='green')"
   ]
  },
  {
   "cell_type": "code",
   "execution_count": null,
   "id": "ed6317d2-ef30-4ff5-9990-af3498569d40",
   "metadata": {},
   "outputs": [],
   "source": [
    "# create a scatter plot that graphs the compactness and width features\n",
    "s3 = df[['compactness', 'width']]\n",
    "s3.plot.scatter(x='compactness', y='width', marker='^')"
   ]
  },
  {
   "cell_type": "code",
   "execution_count": null,
   "id": "d320c469-9a71-40ae-88d4-611f7425266c",
   "metadata": {},
   "outputs": [],
   "source": [
    "# If you loaded the id column as a feature, then be sure to drop it and also the wheat_type\n",
    "df2 = df.drop('id', axis=1) # axis = 1 is for column\n",
    "d = df2.drop('wheat_type', axis=1)\n",
    "print(d.shape)\n",
    "# Compute the correlation matrix of your dataframe\n",
    "print(d.dtypes)\n",
    "d.corr()"
   ]
  },
  {
   "cell_type": "code",
   "execution_count": null,
   "id": "d22c692c-b26f-44df-972b-b9ff90fa90c6",
   "metadata": {},
   "outputs": [],
   "source": [
    "# what are the different types of wheat\n",
    "y = df.wheat_type\n",
    "print(y.shape)\n",
    "print(type(y))\n",
    "print(y.value_counts())\n",
    "print(y.unique())\n",
    "# check if any values in the dataframe are null\n",
    "print(df.isnull().any())\n",
    "df[pd.isnull(df).any(axis=1)]"
   ]
  },
  {
   "cell_type": "code",
   "execution_count": null,
   "id": "0236dd59-f77d-4a3f-8c27-16e027df46d9",
   "metadata": {},
   "outputs": [],
   "source": [
    "# Do some basic nan munging. Fill each row's nans with the mean of the feature\n",
    "df.compactness = df.compactness.fillna(df.compactness.mean())\n",
    "df.width = df.width.fillna(df.width.mean())\n",
    "df.groove = df.groove.fillna(df.groove.mean())\n",
    "df.isnull().any() "
   ]
  },
  {
   "cell_type": "code",
   "execution_count": null,
   "id": "59861ad0-681c-4080-af5d-40fccbe6d2b4",
   "metadata": {},
   "outputs": [],
   "source": [
    "df.describe()"
   ]
  }
 ],
 "metadata": {
  "kernelspec": {
   "display_name": "Python 3 (ipykernel)",
   "language": "python",
   "name": "python3"
  },
  "language_info": {
   "codemirror_mode": {
    "name": "ipython",
    "version": 3
   },
   "file_extension": ".py",
   "mimetype": "text/x-python",
   "name": "python",
   "nbconvert_exporter": "python",
   "pygments_lexer": "ipython3",
   "version": "3.11.7"
  }
 },
 "nbformat": 4,
 "nbformat_minor": 5
}
