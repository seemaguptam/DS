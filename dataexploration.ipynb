{
 "cells": [
  {
   "cell_type": "code",
   "execution_count": null,
   "id": "32d773f2-eb1b-496a-b6fd-c47adbae5e44",
   "metadata": {},
   "outputs": [],
   "source": [
    "\"\"\" Wheat data exploration \"\"\""
   ]
  },
  {
   "cell_type": "code",
   "execution_count": 1,
   "id": "c4020e1a-cbc3-4e54-a95f-a12996ff4c0a",
   "metadata": {},
   "outputs": [],
   "source": [
    "import pandas as pd\n",
    "import matplotlib.pyplot as plt\n",
    "import matplotlib"
   ]
  },
  {
   "cell_type": "code",
   "execution_count": 2,
   "id": "02cc6a02-7ced-4b9f-92e2-6bfcd222f0df",
   "metadata": {},
   "outputs": [
    {
     "data": {
      "text/plain": [
       "(210, 9)"
      ]
     },
     "execution_count": 2,
     "metadata": {},
     "output_type": "execute_result"
    }
   ],
   "source": [
    "import os\n",
    "os.getcwd()\n",
    "df = pd.read_csv(\"wheat.data\")\n",
    "df.shape"
   ]
  },
  {
   "cell_type": "code",
   "execution_count": 3,
   "id": "b45f9e31-bdac-45e8-b141-5c6cf71098b8",
   "metadata": {},
   "outputs": [
    {
     "data": {
      "text/plain": [
       "Index(['id', 'area', 'perimeter', 'compactness', 'length', 'width',\n",
       "       'asymmetry', 'groove', 'wheat_type'],\n",
       "      dtype='object')"
      ]
     },
     "execution_count": 3,
     "metadata": {},
     "output_type": "execute_result"
    }
   ],
   "source": [
    "# columns in the data\n",
    "df.columns"
   ]
  },
  {
   "cell_type": "code",
   "execution_count": 6,
   "id": "aa8dbe3a-e184-4b0c-9bb8-68454aa6cec0",
   "metadata": {},
   "outputs": [
    {
     "data": {
      "text/plain": [
       "id               int64\n",
       "area           float64\n",
       "perimeter      float64\n",
       "compactness    float64\n",
       "length         float64\n",
       "width          float64\n",
       "asymmetry      float64\n",
       "groove         float64\n",
       "wheat_type      object\n",
       "dtype: object"
      ]
     },
     "execution_count": 6,
     "metadata": {},
     "output_type": "execute_result"
    }
   ],
   "source": [
    "df.dtypes"
   ]
  },
  {
   "cell_type": "code",
   "execution_count": 4,
   "id": "252b1d19-9b8d-4b7a-93a3-70e247358d5a",
   "metadata": {},
   "outputs": [
    {
     "data": {
      "text/html": [
       "<div>\n",
       "<style scoped>\n",
       "    .dataframe tbody tr th:only-of-type {\n",
       "        vertical-align: middle;\n",
       "    }\n",
       "\n",
       "    .dataframe tbody tr th {\n",
       "        vertical-align: top;\n",
       "    }\n",
       "\n",
       "    .dataframe thead th {\n",
       "        text-align: right;\n",
       "    }\n",
       "</style>\n",
       "<table border=\"1\" class=\"dataframe\">\n",
       "  <thead>\n",
       "    <tr style=\"text-align: right;\">\n",
       "      <th></th>\n",
       "      <th>id</th>\n",
       "      <th>area</th>\n",
       "      <th>perimeter</th>\n",
       "      <th>compactness</th>\n",
       "      <th>length</th>\n",
       "      <th>width</th>\n",
       "      <th>asymmetry</th>\n",
       "      <th>groove</th>\n",
       "    </tr>\n",
       "  </thead>\n",
       "  <tbody>\n",
       "    <tr>\n",
       "      <th>count</th>\n",
       "      <td>210.000000</td>\n",
       "      <td>210.000000</td>\n",
       "      <td>210.000000</td>\n",
       "      <td>207.000000</td>\n",
       "      <td>210.000000</td>\n",
       "      <td>209.000000</td>\n",
       "      <td>210.000000</td>\n",
       "      <td>206.000000</td>\n",
       "    </tr>\n",
       "    <tr>\n",
       "      <th>mean</th>\n",
       "      <td>104.500000</td>\n",
       "      <td>14.847524</td>\n",
       "      <td>14.559286</td>\n",
       "      <td>0.871280</td>\n",
       "      <td>5.563918</td>\n",
       "      <td>3.281440</td>\n",
       "      <td>3.693530</td>\n",
       "      <td>5.407529</td>\n",
       "    </tr>\n",
       "    <tr>\n",
       "      <th>std</th>\n",
       "      <td>60.765944</td>\n",
       "      <td>2.909699</td>\n",
       "      <td>1.305959</td>\n",
       "      <td>0.023306</td>\n",
       "      <td>0.719594</td>\n",
       "      <td>0.419907</td>\n",
       "      <td>1.495112</td>\n",
       "      <td>0.532330</td>\n",
       "    </tr>\n",
       "    <tr>\n",
       "      <th>min</th>\n",
       "      <td>0.000000</td>\n",
       "      <td>10.590000</td>\n",
       "      <td>12.410000</td>\n",
       "      <td>0.808100</td>\n",
       "      <td>0.818900</td>\n",
       "      <td>2.630000</td>\n",
       "      <td>0.765100</td>\n",
       "      <td>3.485000</td>\n",
       "    </tr>\n",
       "    <tr>\n",
       "      <th>25%</th>\n",
       "      <td>52.250000</td>\n",
       "      <td>12.270000</td>\n",
       "      <td>13.450000</td>\n",
       "      <td>0.857700</td>\n",
       "      <td>5.244750</td>\n",
       "      <td>2.956000</td>\n",
       "      <td>2.600250</td>\n",
       "      <td>5.045000</td>\n",
       "    </tr>\n",
       "    <tr>\n",
       "      <th>50%</th>\n",
       "      <td>104.500000</td>\n",
       "      <td>14.355000</td>\n",
       "      <td>14.320000</td>\n",
       "      <td>0.873500</td>\n",
       "      <td>5.518000</td>\n",
       "      <td>3.245000</td>\n",
       "      <td>3.599000</td>\n",
       "      <td>5.226000</td>\n",
       "    </tr>\n",
       "    <tr>\n",
       "      <th>75%</th>\n",
       "      <td>156.750000</td>\n",
       "      <td>17.305000</td>\n",
       "      <td>15.715000</td>\n",
       "      <td>0.887650</td>\n",
       "      <td>5.979750</td>\n",
       "      <td>3.566000</td>\n",
       "      <td>4.768750</td>\n",
       "      <td>5.879000</td>\n",
       "    </tr>\n",
       "    <tr>\n",
       "      <th>max</th>\n",
       "      <td>209.000000</td>\n",
       "      <td>21.180000</td>\n",
       "      <td>17.250000</td>\n",
       "      <td>0.918300</td>\n",
       "      <td>6.675000</td>\n",
       "      <td>5.325000</td>\n",
       "      <td>8.456000</td>\n",
       "      <td>6.735000</td>\n",
       "    </tr>\n",
       "  </tbody>\n",
       "</table>\n",
       "</div>"
      ],
      "text/plain": [
       "               id        area   perimeter  compactness      length  \\\n",
       "count  210.000000  210.000000  210.000000   207.000000  210.000000   \n",
       "mean   104.500000   14.847524   14.559286     0.871280    5.563918   \n",
       "std     60.765944    2.909699    1.305959     0.023306    0.719594   \n",
       "min      0.000000   10.590000   12.410000     0.808100    0.818900   \n",
       "25%     52.250000   12.270000   13.450000     0.857700    5.244750   \n",
       "50%    104.500000   14.355000   14.320000     0.873500    5.518000   \n",
       "75%    156.750000   17.305000   15.715000     0.887650    5.979750   \n",
       "max    209.000000   21.180000   17.250000     0.918300    6.675000   \n",
       "\n",
       "            width   asymmetry      groove  \n",
       "count  209.000000  210.000000  206.000000  \n",
       "mean     3.281440    3.693530    5.407529  \n",
       "std      0.419907    1.495112    0.532330  \n",
       "min      2.630000    0.765100    3.485000  \n",
       "25%      2.956000    2.600250    5.045000  \n",
       "50%      3.245000    3.599000    5.226000  \n",
       "75%      3.566000    4.768750    5.879000  \n",
       "max      5.325000    8.456000    6.735000  "
      ]
     },
     "execution_count": 4,
     "metadata": {},
     "output_type": "execute_result"
    }
   ],
   "source": [
    "# description of data\n",
    "df.describe()"
   ]
  },
  {
   "cell_type": "code",
   "execution_count": 3,
   "id": "dfe60cf5-6c05-4d67-af50-4326e07bf9c5",
   "metadata": {},
   "outputs": [
    {
     "data": {
      "text/plain": [
       "(210, 2)"
      ]
     },
     "execution_count": 3,
     "metadata": {},
     "output_type": "execute_result"
    }
   ],
   "source": [
    "# Get a subset of data\n",
    "# Create a slice from your dataframe and name the variable s1. It should only include the area and perimeter features.\n",
    "s1 = df[['area', 'perimeter']]\n",
    "s1.shape"
   ]
  },
  {
   "cell_type": "code",
   "execution_count": 9,
   "id": "4fcf98ad-c0ab-4e38-9548-37b01a5739e4",
   "metadata": {},
   "outputs": [
    {
     "data": {
      "text/plain": [
       "pandas.core.frame.DataFrame"
      ]
     },
     "execution_count": 9,
     "metadata": {},
     "output_type": "execute_result"
    }
   ],
   "source": [
    "type(s1)"
   ]
  },
  {
   "cell_type": "code",
   "execution_count": 4,
   "id": "714f4dfc-effd-42cb-97d8-76c1b08e9c7b",
   "metadata": {},
   "outputs": [
    {
     "data": {
      "text/plain": [
       "(210, 2)"
      ]
     },
     "execution_count": 4,
     "metadata": {},
     "output_type": "execute_result"
    }
   ],
   "source": [
    "# Create another slice of from dataframe called it s2 this time. Slice out only the groove and asymmetry features\n",
    "s2 = df[['groove', 'asymmetry']]\n",
    "s2.shape"
   ]
  },
  {
   "cell_type": "code",
   "execution_count": 5,
   "id": "927e5c58-10e5-4ccf-b942-9ddb82294dac",
   "metadata": {},
   "outputs": [
    {
     "data": {
      "text/plain": [
       "<Axes: ylabel='Frequency'>"
      ]
     },
     "execution_count": 5,
     "metadata": {},
     "output_type": "execute_result"
    },
    {
     "data": {
      "image/png": "[encoded data removed]",
      "text/plain": [
       "<Figure size 640x480 with 1 Axes>"
      ]
     },
     "metadata": {},
     "output_type": "display_data"
    },
    {
     "data": {
      "image/png": "[encoded data removed]",
      "text/plain": [
       "<Figure size 640x480 with 1 Axes>"
      ]
     },
     "metadata": {},
     "output_type": "display_data"
    }
   ],
   "source": [
    "# Create a histogram plot using the first slice, and another histogram plot using the second slice. Be sure to set alpha=0.75\n",
    "s1.plot.hist(alpha=0.75)\n",
    "s2.plot.hist(alpha=0.75)"
   ]
  },
  {
   "cell_type": "code",
   "execution_count": 12,
   "id": "2e49f454-180d-4dee-8005-91e4f8cf67ac",
   "metadata": {},
   "outputs": [
    {
     "data": {
      "text/plain": [
       "<Axes: xlabel='area', ylabel='perimeter'>"
      ]
     },
     "execution_count": 12,
     "metadata": {},
     "output_type": "execute_result"
    },
    {
     "data": {
      "image/png": "[encoded data removed]",
      "text/plain": [
       "<Figure size 640x480 with 1 Axes>"
      ]
     },
     "metadata": {},
     "output_type": "display_data"
    }
   ],
   "source": [
    "# Scatter plots are a great way to identify corelation betwen features\n",
    "# Create a scatter plot that graphs the area and perimeter features\n",
    "s1.plot.scatter(x='area', y='perimeter')"
   ]
  },
  {
   "cell_type": "code",
   "execution_count": 17,
   "id": "5e71f2e6-f7be-4774-a4dd-137cf149d9ec",
   "metadata": {},
   "outputs": [
    {
     "data": {
      "text/plain": [
       "<Axes: xlabel='groove', ylabel='asymmetry'>"
      ]
     },
     "execution_count": 17,
     "metadata": {},
     "output_type": "execute_result"
    },
    {
     "data": {
      "image/png": "[encoded data removed]",
      "text/plain": [
       "<Figure size 640x480 with 1 Axes>"
      ]
     },
     "metadata": {},
     "output_type": "display_data"
    }
   ],
   "source": [
    "# now create a scatter plot that graphs the groove and asymmetry features\n",
    "s2.plot.scatter(x='groove', y='asymmetry', color='green')"
   ]
  },
  {
   "cell_type": "code",
   "execution_count": 16,
   "id": "9f12c90f-ffad-42b7-be5d-2410ca2db79f",
   "metadata": {},
   "outputs": [
    {
     "data": {
      "text/plain": [
       "<Axes: xlabel='compactness', ylabel='width'>"
      ]
     },
     "execution_count": 16,
     "metadata": {},
     "output_type": "execute_result"
    },
    {
     "data": {
      "image/png": "[encoded data removed]",
      "text/plain": [
       "<Figure size 640x480 with 1 Axes>"
      ]
     },
     "metadata": {},
     "output_type": "display_data"
    }
   ],
   "source": [
    "# create a scatter plot that graphs the compactness and width features\n",
    "s3 = df[['compactness', 'width']]\n",
    "s3.plot.scatter(x='compactness', y='width', marker='^')"
   ]
  },
  {
   "cell_type": "code",
   "execution_count": 19,
   "id": "1a23b5c9-6a38-451d-a847-03610b6d1a64",
   "metadata": {},
   "outputs": [
    {
     "data": {
      "text/plain": [
       "(210, 7)"
      ]
     },
     "execution_count": 19,
     "metadata": {},
     "output_type": "execute_result"
    }
   ],
   "source": [
    "# If you loaded the id column as a feature, then be sure to drop it and also the wheat_type\n",
    "df2 = df.drop('id', axis=1) # axis = 1 is for column\n",
    "d = df2.drop('wheat_type', axis=1)\n",
    "d.shape"
   ]
  },
  {
   "cell_type": "code",
   "execution_count": 21,
   "id": "77bb5b1e-93bb-4927-81a2-af0ac4a0eb4d",
   "metadata": {},
   "outputs": [
    {
     "data": {
      "text/html": [
       "<div>\n",
       "<style scoped>\n",
       "    .dataframe tbody tr th:only-of-type {\n",
       "        vertical-align: middle;\n",
       "    }\n",
       "\n",
       "    .dataframe tbody tr th {\n",
       "        vertical-align: top;\n",
       "    }\n",
       "\n",
       "    .dataframe thead th {\n",
       "        text-align: right;\n",
       "    }\n",
       "</style>\n",
       "<table border=\"1\" class=\"dataframe\">\n",
       "  <thead>\n",
       "    <tr style=\"text-align: right;\">\n",
       "      <th></th>\n",
       "      <th>area</th>\n",
       "      <th>perimeter</th>\n",
       "      <th>compactness</th>\n",
       "      <th>length</th>\n",
       "      <th>width</th>\n",
       "      <th>asymmetry</th>\n",
       "      <th>groove</th>\n",
       "    </tr>\n",
       "  </thead>\n",
       "  <tbody>\n",
       "    <tr>\n",
       "      <th>area</th>\n",
       "      <td>1.000000</td>\n",
       "      <td>0.994341</td>\n",
       "      <td>0.600312</td>\n",
       "      <td>0.645418</td>\n",
       "      <td>0.801616</td>\n",
       "      <td>-0.205876</td>\n",
       "      <td>0.786096</td>\n",
       "    </tr>\n",
       "    <tr>\n",
       "      <th>perimeter</th>\n",
       "      <td>0.994341</td>\n",
       "      <td>1.000000</td>\n",
       "      <td>0.520544</td>\n",
       "      <td>0.657490</td>\n",
       "      <td>0.783188</td>\n",
       "      <td>-0.196360</td>\n",
       "      <td>0.813256</td>\n",
       "    </tr>\n",
       "    <tr>\n",
       "      <th>compactness</th>\n",
       "      <td>0.600312</td>\n",
       "      <td>0.520544</td>\n",
       "      <td>1.000000</td>\n",
       "      <td>0.360060</td>\n",
       "      <td>0.756165</td>\n",
       "      <td>-0.315668</td>\n",
       "      <td>0.236184</td>\n",
       "    </tr>\n",
       "    <tr>\n",
       "      <th>length</th>\n",
       "      <td>0.645418</td>\n",
       "      <td>0.657490</td>\n",
       "      <td>0.360060</td>\n",
       "      <td>1.000000</td>\n",
       "      <td>0.197228</td>\n",
       "      <td>-0.102325</td>\n",
       "      <td>0.669887</td>\n",
       "    </tr>\n",
       "    <tr>\n",
       "      <th>width</th>\n",
       "      <td>0.801616</td>\n",
       "      <td>0.783188</td>\n",
       "      <td>0.756165</td>\n",
       "      <td>0.197228</td>\n",
       "      <td>1.000000</td>\n",
       "      <td>-0.249378</td>\n",
       "      <td>0.619865</td>\n",
       "    </tr>\n",
       "    <tr>\n",
       "      <th>asymmetry</th>\n",
       "      <td>-0.205876</td>\n",
       "      <td>-0.196360</td>\n",
       "      <td>-0.315668</td>\n",
       "      <td>-0.102325</td>\n",
       "      <td>-0.249378</td>\n",
       "      <td>1.000000</td>\n",
       "      <td>-0.039248</td>\n",
       "    </tr>\n",
       "    <tr>\n",
       "      <th>groove</th>\n",
       "      <td>0.786096</td>\n",
       "      <td>0.813256</td>\n",
       "      <td>0.236184</td>\n",
       "      <td>0.669887</td>\n",
       "      <td>0.619865</td>\n",
       "      <td>-0.039248</td>\n",
       "      <td>1.000000</td>\n",
       "    </tr>\n",
       "  </tbody>\n",
       "</table>\n",
       "</div>"
      ],
      "text/plain": [
       "                 area  perimeter  compactness    length     width  asymmetry  \\\n",
       "area         1.000000   0.994341     0.600312  0.645418  0.801616  -0.205876   \n",
       "perimeter    0.994341   1.000000     0.520544  0.657490  0.783188  -0.196360   \n",
       "compactness  0.600312   0.520544     1.000000  0.360060  0.756165  -0.315668   \n",
       "length       0.645418   0.657490     0.360060  1.000000  0.197228  -0.102325   \n",
       "width        0.801616   0.783188     0.756165  0.197228  1.000000  -0.249378   \n",
       "asymmetry   -0.205876  -0.196360    -0.315668 -0.102325 -0.249378   1.000000   \n",
       "groove       0.786096   0.813256     0.236184  0.669887  0.619865  -0.039248   \n",
       "\n",
       "               groove  \n",
       "area         0.786096  \n",
       "perimeter    0.813256  \n",
       "compactness  0.236184  \n",
       "length       0.669887  \n",
       "width        0.619865  \n",
       "asymmetry   -0.039248  \n",
       "groove       1.000000  "
      ]
     },
     "execution_count": 21,
     "metadata": {},
     "output_type": "execute_result"
    }
   ],
   "source": [
    "# Compute the correlation matrix of your dataframe\n",
    "d.dtypes\n",
    "d.corr()"
   ]
  },
  {
   "cell_type": "code",
   "execution_count": 22,
   "id": "ef72c50c-4131-43ac-9869-cece2e41dbc5",
   "metadata": {},
   "outputs": [
    {
     "data": {
      "text/plain": [
       "<matplotlib.image.AxesImage at 0x24e67c32c90>"
      ]
     },
     "execution_count": 22,
     "metadata": {},
     "output_type": "execute_result"
    },
    {
     "data": {
      "image/png": "[encoded data removed]",
      "text/plain": [
       "<Figure size 640x480 with 1 Axes>"
      ]
     },
     "metadata": {},
     "output_type": "display_data"
    }
   ],
   "source": [
    "# Graph the correlation matrix using imshow or matshow\n",
    "plt.imshow(d.corr())"
   ]
  },
  {
   "cell_type": "code",
   "execution_count": 23,
   "id": "b43ab463-f64c-4d26-9772-52c6503dedc3",
   "metadata": {},
   "outputs": [
    {
     "data": {
      "text/plain": [
       "<matplotlib.image.AxesImage at 0x24e69303d90>"
      ]
     },
     "execution_count": 23,
     "metadata": {},
     "output_type": "execute_result"
    },
    {
     "data": {
      "image/png": "[encoded data removed]",
      "text/plain": [
       "<Figure size 480x480 with 1 Axes>"
      ]
     },
     "metadata": {},
     "output_type": "display_data"
    }
   ],
   "source": [
    "plt.matshow(d.corr())"
   ]
  },
  {
   "cell_type": "code",
   "execution_count": 24,
   "id": "1ab9d466-0e73-4b49-93a9-8613e0d71da6",
   "metadata": {},
   "outputs": [],
   "source": [
    "# what are the different types of wheat\n",
    "y = df.wheat_type"
   ]
  },
  {
   "cell_type": "code",
   "execution_count": 25,
   "id": "291236ca-3512-4418-9ffb-cd4f4429ea3d",
   "metadata": {},
   "outputs": [
    {
     "data": {
      "text/plain": [
       "(210,)"
      ]
     },
     "execution_count": 25,
     "metadata": {},
     "output_type": "execute_result"
    }
   ],
   "source": [
    "y.shape"
   ]
  },
  {
   "cell_type": "code",
   "execution_count": 26,
   "id": "455a7699-5d89-4480-a081-0f71481ef41d",
   "metadata": {},
   "outputs": [
    {
     "data": {
      "text/plain": [
       "pandas.core.series.Series"
      ]
     },
     "execution_count": 26,
     "metadata": {},
     "output_type": "execute_result"
    }
   ],
   "source": [
    "type(y)"
   ]
  },
  {
   "cell_type": "code",
   "execution_count": 27,
   "id": "8b60f26e-d5fd-4844-ab4a-3d35529a536a",
   "metadata": {},
   "outputs": [
    {
     "data": {
      "text/plain": [
       "wheat_type\n",
       "canadian    76\n",
       "rosa        68\n",
       "kama        66\n",
       "Name: count, dtype: int64"
      ]
     },
     "execution_count": 27,
     "metadata": {},
     "output_type": "execute_result"
    }
   ],
   "source": [
    "y.value_counts()"
   ]
  },
  {
   "cell_type": "code",
   "execution_count": 28,
   "id": "bfb5bdb6-db7a-400f-bdea-3dde899a87f4",
   "metadata": {},
   "outputs": [
    {
     "data": {
      "text/plain": [
       "array(['kama', 'canadian', 'rosa'], dtype=object)"
      ]
     },
     "execution_count": 28,
     "metadata": {},
     "output_type": "execute_result"
    }
   ],
   "source": [
    "y.unique()"
   ]
  },
  {
   "cell_type": "code",
   "execution_count": 36,
   "id": "80a7df11-8817-422e-9021-847c343c832c",
   "metadata": {},
   "outputs": [
    {
     "data": {
      "text/plain": [
       "id             False\n",
       "area           False\n",
       "perimeter      False\n",
       "compactness     True\n",
       "length         False\n",
       "width           True\n",
       "asymmetry      False\n",
       "groove          True\n",
       "wheat_type     False\n",
       "dtype: bool"
      ]
     },
     "execution_count": 36,
     "metadata": {},
     "output_type": "execute_result"
    }
   ],
   "source": [
    "# check if any values in the dataframe are null\n",
    "df.isnull().any()"
   ]
  },
  {
   "cell_type": "code",
   "execution_count": 37,
   "id": "d36531a3-589c-43ed-a30d-60b287a400d0",
   "metadata": {},
   "outputs": [
    {
     "data": {
      "text/html": [
       "<div>\n",
       "<style scoped>\n",
       "    .dataframe tbody tr th:only-of-type {\n",
       "        vertical-align: middle;\n",
       "    }\n",
       "\n",
       "    .dataframe tbody tr th {\n",
       "        vertical-align: top;\n",
       "    }\n",
       "\n",
       "    .dataframe thead th {\n",
       "        text-align: right;\n",
       "    }\n",
       "</style>\n",
       "<table border=\"1\" class=\"dataframe\">\n",
       "  <thead>\n",
       "    <tr style=\"text-align: right;\">\n",
       "      <th></th>\n",
       "      <th>id</th>\n",
       "      <th>area</th>\n",
       "      <th>perimeter</th>\n",
       "      <th>compactness</th>\n",
       "      <th>length</th>\n",
       "      <th>width</th>\n",
       "      <th>asymmetry</th>\n",
       "      <th>groove</th>\n",
       "      <th>wheat_type</th>\n",
       "    </tr>\n",
       "  </thead>\n",
       "  <tbody>\n",
       "    <tr>\n",
       "      <th>7</th>\n",
       "      <td>7</td>\n",
       "      <td>14.11</td>\n",
       "      <td>14.10</td>\n",
       "      <td>0.8911</td>\n",
       "      <td>5.4200</td>\n",
       "      <td>3.302</td>\n",
       "      <td>2.700</td>\n",
       "      <td>NaN</td>\n",
       "      <td>canadian</td>\n",
       "    </tr>\n",
       "    <tr>\n",
       "      <th>35</th>\n",
       "      <td>35</td>\n",
       "      <td>16.12</td>\n",
       "      <td>15.00</td>\n",
       "      <td>NaN</td>\n",
       "      <td>0.9000</td>\n",
       "      <td>NaN</td>\n",
       "      <td>5.709</td>\n",
       "      <td>3.485</td>\n",
       "      <td>canadian</td>\n",
       "    </tr>\n",
       "    <tr>\n",
       "      <th>60</th>\n",
       "      <td>60</td>\n",
       "      <td>11.42</td>\n",
       "      <td>12.86</td>\n",
       "      <td>0.8683</td>\n",
       "      <td>5.0080</td>\n",
       "      <td>2.850</td>\n",
       "      <td>2.700</td>\n",
       "      <td>NaN</td>\n",
       "      <td>canadian</td>\n",
       "    </tr>\n",
       "    <tr>\n",
       "      <th>135</th>\n",
       "      <td>135</td>\n",
       "      <td>15.38</td>\n",
       "      <td>14.66</td>\n",
       "      <td>0.8990</td>\n",
       "      <td>5.4770</td>\n",
       "      <td>3.465</td>\n",
       "      <td>3.600</td>\n",
       "      <td>NaN</td>\n",
       "      <td>canadian</td>\n",
       "    </tr>\n",
       "    <tr>\n",
       "      <th>169</th>\n",
       "      <td>169</td>\n",
       "      <td>11.24</td>\n",
       "      <td>13.00</td>\n",
       "      <td>NaN</td>\n",
       "      <td>0.8359</td>\n",
       "      <td>5.090</td>\n",
       "      <td>2.715</td>\n",
       "      <td>3.521</td>\n",
       "      <td>canadian</td>\n",
       "    </tr>\n",
       "    <tr>\n",
       "      <th>170</th>\n",
       "      <td>170</td>\n",
       "      <td>11.02</td>\n",
       "      <td>13.00</td>\n",
       "      <td>NaN</td>\n",
       "      <td>0.8189</td>\n",
       "      <td>5.325</td>\n",
       "      <td>2.701</td>\n",
       "      <td>6.735</td>\n",
       "      <td>canadian</td>\n",
       "    </tr>\n",
       "    <tr>\n",
       "      <th>201</th>\n",
       "      <td>201</td>\n",
       "      <td>12.67</td>\n",
       "      <td>13.32</td>\n",
       "      <td>0.8977</td>\n",
       "      <td>4.9840</td>\n",
       "      <td>3.135</td>\n",
       "      <td>2.300</td>\n",
       "      <td>NaN</td>\n",
       "      <td>canadian</td>\n",
       "    </tr>\n",
       "  </tbody>\n",
       "</table>\n",
       "</div>"
      ],
      "text/plain": [
       "      id   area  perimeter  compactness  length  width  asymmetry  groove  \\\n",
       "7      7  14.11      14.10       0.8911  5.4200  3.302      2.700     NaN   \n",
       "35    35  16.12      15.00          NaN  0.9000    NaN      5.709   3.485   \n",
       "60    60  11.42      12.86       0.8683  5.0080  2.850      2.700     NaN   \n",
       "135  135  15.38      14.66       0.8990  5.4770  3.465      3.600     NaN   \n",
       "169  169  11.24      13.00          NaN  0.8359  5.090      2.715   3.521   \n",
       "170  170  11.02      13.00          NaN  0.8189  5.325      2.701   6.735   \n",
       "201  201  12.67      13.32       0.8977  4.9840  3.135      2.300     NaN   \n",
       "\n",
       "    wheat_type  \n",
       "7     canadian  \n",
       "35    canadian  \n",
       "60    canadian  \n",
       "135   canadian  \n",
       "169   canadian  \n",
       "170   canadian  \n",
       "201   canadian  "
      ]
     },
     "execution_count": 37,
     "metadata": {},
     "output_type": "execute_result"
    }
   ],
   "source": [
    "# An easy way to show which rows have nans in them:\n",
    "df[pd.isnull(df).any(axis=1)]"
   ]
  },
  {
   "cell_type": "code",
   "execution_count": 30,
   "id": "b07da4de-e681-49cf-b55f-7a70366da8bf",
   "metadata": {},
   "outputs": [
    {
     "data": {
      "text/plain": [
       "id             False\n",
       "area           False\n",
       "perimeter      False\n",
       "compactness    False\n",
       "length         False\n",
       "width          False\n",
       "asymmetry      False\n",
       "groove         False\n",
       "wheat_type     False\n",
       "dtype: bool"
      ]
     },
     "execution_count": 30,
     "metadata": {},
     "output_type": "execute_result"
    }
   ],
   "source": [
    "# Do some basic nan munging. Fill each row's nans with the mean of the feature\n",
    "df.compactness = df.compactness.fillna(df.compactness.mean())\n",
    "df.width = df.width.fillna(df.width.mean())\n",
    "df.groove = df.groove.fillna(df.groove.mean())\n",
    "df.isnull().any() "
   ]
  },
  {
   "cell_type": "code",
   "execution_count": 31,
   "id": "649b8c71-dd4c-4519-9ff4-65fb3341bf6a",
   "metadata": {},
   "outputs": [
    {
     "data": {
      "text/html": [
       "<div>\n",
       "<style scoped>\n",
       "    .dataframe tbody tr th:only-of-type {\n",
       "        vertical-align: middle;\n",
       "    }\n",
       "\n",
       "    .dataframe tbody tr th {\n",
       "        vertical-align: top;\n",
       "    }\n",
       "\n",
       "    .dataframe thead th {\n",
       "        text-align: right;\n",
       "    }\n",
       "</style>\n",
       "<table border=\"1\" class=\"dataframe\">\n",
       "  <thead>\n",
       "    <tr style=\"text-align: right;\">\n",
       "      <th></th>\n",
       "      <th>id</th>\n",
       "      <th>area</th>\n",
       "      <th>perimeter</th>\n",
       "      <th>compactness</th>\n",
       "      <th>length</th>\n",
       "      <th>width</th>\n",
       "      <th>asymmetry</th>\n",
       "      <th>groove</th>\n",
       "    </tr>\n",
       "  </thead>\n",
       "  <tbody>\n",
       "    <tr>\n",
       "      <th>count</th>\n",
       "      <td>210.000000</td>\n",
       "      <td>210.000000</td>\n",
       "      <td>210.000000</td>\n",
       "      <td>210.000000</td>\n",
       "      <td>210.000000</td>\n",
       "      <td>210.000000</td>\n",
       "      <td>210.000000</td>\n",
       "      <td>210.000000</td>\n",
       "    </tr>\n",
       "    <tr>\n",
       "      <th>mean</th>\n",
       "      <td>104.500000</td>\n",
       "      <td>14.847524</td>\n",
       "      <td>14.559286</td>\n",
       "      <td>0.871280</td>\n",
       "      <td>5.563918</td>\n",
       "      <td>3.281440</td>\n",
       "      <td>3.693530</td>\n",
       "      <td>5.407529</td>\n",
       "    </tr>\n",
       "    <tr>\n",
       "      <th>std</th>\n",
       "      <td>60.765944</td>\n",
       "      <td>2.909699</td>\n",
       "      <td>1.305959</td>\n",
       "      <td>0.023138</td>\n",
       "      <td>0.719594</td>\n",
       "      <td>0.418901</td>\n",
       "      <td>1.495112</td>\n",
       "      <td>0.527211</td>\n",
       "    </tr>\n",
       "    <tr>\n",
       "      <th>min</th>\n",
       "      <td>0.000000</td>\n",
       "      <td>10.590000</td>\n",
       "      <td>12.410000</td>\n",
       "      <td>0.808100</td>\n",
       "      <td>0.818900</td>\n",
       "      <td>2.630000</td>\n",
       "      <td>0.765100</td>\n",
       "      <td>3.485000</td>\n",
       "    </tr>\n",
       "    <tr>\n",
       "      <th>25%</th>\n",
       "      <td>52.250000</td>\n",
       "      <td>12.270000</td>\n",
       "      <td>13.450000</td>\n",
       "      <td>0.857925</td>\n",
       "      <td>5.244750</td>\n",
       "      <td>2.957000</td>\n",
       "      <td>2.600250</td>\n",
       "      <td>5.045250</td>\n",
       "    </tr>\n",
       "    <tr>\n",
       "      <th>50%</th>\n",
       "      <td>104.500000</td>\n",
       "      <td>14.355000</td>\n",
       "      <td>14.320000</td>\n",
       "      <td>0.873100</td>\n",
       "      <td>5.518000</td>\n",
       "      <td>3.251500</td>\n",
       "      <td>3.599000</td>\n",
       "      <td>5.247000</td>\n",
       "    </tr>\n",
       "    <tr>\n",
       "      <th>75%</th>\n",
       "      <td>156.750000</td>\n",
       "      <td>17.305000</td>\n",
       "      <td>15.715000</td>\n",
       "      <td>0.887325</td>\n",
       "      <td>5.979750</td>\n",
       "      <td>3.565250</td>\n",
       "      <td>4.768750</td>\n",
       "      <td>5.878500</td>\n",
       "    </tr>\n",
       "    <tr>\n",
       "      <th>max</th>\n",
       "      <td>209.000000</td>\n",
       "      <td>21.180000</td>\n",
       "      <td>17.250000</td>\n",
       "      <td>0.918300</td>\n",
       "      <td>6.675000</td>\n",
       "      <td>5.325000</td>\n",
       "      <td>8.456000</td>\n",
       "      <td>6.735000</td>\n",
       "    </tr>\n",
       "  </tbody>\n",
       "</table>\n",
       "</div>"
      ],
      "text/plain": [
       "               id        area   perimeter  compactness      length  \\\n",
       "count  210.000000  210.000000  210.000000   210.000000  210.000000   \n",
       "mean   104.500000   14.847524   14.559286     0.871280    5.563918   \n",
       "std     60.765944    2.909699    1.305959     0.023138    0.719594   \n",
       "min      0.000000   10.590000   12.410000     0.808100    0.818900   \n",
       "25%     52.250000   12.270000   13.450000     0.857925    5.244750   \n",
       "50%    104.500000   14.355000   14.320000     0.873100    5.518000   \n",
       "75%    156.750000   17.305000   15.715000     0.887325    5.979750   \n",
       "max    209.000000   21.180000   17.250000     0.918300    6.675000   \n",
       "\n",
       "            width   asymmetry      groove  \n",
       "count  210.000000  210.000000  210.000000  \n",
       "mean     3.281440    3.693530    5.407529  \n",
       "std      0.418901    1.495112    0.527211  \n",
       "min      2.630000    0.765100    3.485000  \n",
       "25%      2.957000    2.600250    5.045250  \n",
       "50%      3.251500    3.599000    5.247000  \n",
       "75%      3.565250    4.768750    5.878500  \n",
       "max      5.325000    8.456000    6.735000  "
      ]
     },
     "execution_count": 31,
     "metadata": {},
     "output_type": "execute_result"
    }
   ],
   "source": [
    "df.describe()"
   ]
  },
  {
   "cell_type": "code",
   "execution_count": null,
   "id": "27a3a90d-16ee-43ae-a59e-192f93c6d47b",
   "metadata": {},
   "outputs": [],
   "source": []
  }
 ],
 "metadata": {
  "kernelspec": {
   "display_name": "Python 3 (ipykernel)",
   "language": "python",
   "name": "python3"
  },
  "language_info": {
   "codemirror_mode": {
    "name": "ipython",
    "version": 3
   },
   "file_extension": ".py",
   "mimetype": "text/x-python",
   "name": "python",
   "nbconvert_exporter": "python",
   "pygments_lexer": "ipython3",
   "version": "3.11.7"
  }
 },
 "nbformat": 4,
 "nbformat_minor": 5
}
